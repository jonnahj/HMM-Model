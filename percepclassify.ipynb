{
 "cells": [
  {
   "cell_type": "code",
   "execution_count": 18,
   "metadata": {},
   "outputs": [],
   "source": [
    "import numpy as np \n",
    "import copy\n",
    "import re\n",
    "import sys\n",
    "import json\n",
    "\n",
    "#param_f = sys.argv[1]\n",
    "#input_f = sys.argv[2]\n",
    "param_f = \"vanillamodel.txt\"\n",
    "input_f = \"perceptron-training-data/dev-text.txt\"\n",
    "x = {}\n",
    "with open(param_f, \"r\", encoding='utf8') as file:\n",
    "    file_content = file.read()\n",
    "    x = json.loads(file_content)\n",
    "    \n",
    "reality = x[\"reality\"]\n",
    "sentiment = x[\"sentiment\"]\n",
    "vocab_vector = x[\"vocab\"]\n",
    "\n",
    "b_r = x[\"bias_r\"]\n",
    "b_s = x[\"bias_s\"]"
   ]
  },
  {
   "cell_type": "code",
   "execution_count": 19,
   "metadata": {},
   "outputs": [],
   "source": [
    "def line_to_vec(line):\n",
    "    blank = [0] * len(vocab_vector)\n",
    "    for word in line:\n",
    "        word = word.replace(\".\",\"\")\n",
    "        word = word.replace(\",\",\"\")\n",
    "        word = word.replace(\":\",\"\")\n",
    "        word = word.replace(\";\",\"\")\n",
    "        word = word.replace(\"\\'\",\"\")\n",
    "        word = word.replace(\"\\\"\",\"\")\n",
    "        word = word.replace(\"!\",\"\")\n",
    "        word = word.replace(\"?\",\"\")\n",
    "        word = word.replace(\"(\",\"\")\n",
    "        word = word.replace(\")\",\"\")\n",
    "        word = word.replace(\"~\",\"\")\n",
    "        word = word.replace(\"-\",\"\")\n",
    "        word = word.lower()\n",
    "        \n",
    "        if(word == \"\"):\n",
    "            continue\n",
    "            \n",
    "        if(word in vocab_vector):\n",
    "            index = vocab_vector.index(word)\n",
    "            blank[index] += 1\n",
    "            \n",
    "    return blank"
   ]
  },
  {
   "cell_type": "code",
   "execution_count": 20,
   "metadata": {},
   "outputs": [],
   "source": [
    "fp = open(input_f, \"r\", encoding='utf8')\n",
    "f = open(\"percepoutput.txt\", \"w\", encoding='utf8')\n",
    "lines = fp.readlines()\n",
    "for line in lines:\n",
    "    sentence = line.strip().split()\n",
    "    id = sentence[0]\n",
    "    sentence = sentence[1:]\n",
    "    word_vector = line_to_vec(sentence)\n",
    "    a = np.multiply(word_vector, reality)\n",
    "    reality_result = \"True\" if np.sum(a)+b_r > 0 else \"Fake\"\n",
    "    a = np.multiply(word_vector, sentiment)\n",
    "    sentiment_result = \"Pos\" if np.sum(a)+b_s > 0 else \"Neg\"\n",
    "    f.write(\"\"+id+\" \"+reality_result+\" \"+sentiment_result+\"\\n\")\n",
    "    \n",
    "f.close()"
   ]
  },
  {
   "cell_type": "code",
   "execution_count": null,
   "metadata": {},
   "outputs": [],
   "source": []
  },
  {
   "cell_type": "code",
   "execution_count": null,
   "metadata": {},
   "outputs": [],
   "source": []
  }
 ],
 "metadata": {
  "kernelspec": {
   "display_name": "Python 3",
   "language": "python",
   "name": "python3"
  },
  "language_info": {
   "codemirror_mode": {
    "name": "ipython",
    "version": 3
   },
   "file_extension": ".py",
   "mimetype": "text/x-python",
   "name": "python",
   "nbconvert_exporter": "python",
   "pygments_lexer": "ipython3",
   "version": "3.8.5"
  }
 },
 "nbformat": 4,
 "nbformat_minor": 4
}
